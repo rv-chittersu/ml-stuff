{
 "cells": [
  {
   "cell_type": "markdown",
   "metadata": {},
   "source": [
    "# Understanding ML Models\n",
    "\n",
    "## Introduction\n",
    "Here we use different machine learning models on the same data and understand how they work\n",
    "(This currently contains only code. The detail analysis of model will be added)\n",
    "## Setup"
   ]
  },
  {
   "cell_type": "code",
   "execution_count": 1,
   "metadata": {},
   "outputs": [],
   "source": [
    "import warnings\n",
    "warnings.filterwarnings(\"ignore\")\n",
    "import pandas as pd\n",
    "\n",
    "melbourne_file_path = 'data/mel_housing/melb_data.csv'\n",
    "melbourne_data = pd.read_csv(melbourne_file_path) "
   ]
  },
  {
   "cell_type": "markdown",
   "metadata": {},
   "source": [
    "## CleanUp and Parameters Selection\n",
    "In this data there are few rows got non numerical values which could mess up the model we are using. We will remove those rows before feeding it to our model.\n",
    "We also need to choose what our feature and target parameters."
   ]
  },
  {
   "cell_type": "code",
   "execution_count": 2,
   "metadata": {},
   "outputs": [
    {
     "data": {
      "text/plain": [
       "1    1035000.0\n",
       "2    1465000.0\n",
       "4    1600000.0\n",
       "6    1876000.0\n",
       "7    1636000.0\n",
       "Name: Price, dtype: float64"
      ]
     },
     "execution_count": 2,
     "metadata": {},
     "output_type": "execute_result"
    }
   ],
   "source": [
    "# removing rows with na\n",
    "melbourne_data = melbourne_data.dropna(0)\n",
    "\n",
    "# setting features (here features are selected randomly)\n",
    "melbourne_features = ['Rooms', 'Bathroom', 'Landsize', 'Lattitude', 'Longtitude']\n",
    "X = melbourne_data[melbourne_features]\n",
    "X.head()\n",
    "\n",
    "# setting target\n",
    "y = melbourne_data.Price\n",
    "y.head()"
   ]
  },
  {
   "cell_type": "markdown",
   "metadata": {},
   "source": [
    "## Splitting data to training and test\n",
    "We validate the model using separate test data as model might have closely followed behavior specific to training data which might not be true in case real world data."
   ]
  },
  {
   "cell_type": "code",
   "execution_count": 3,
   "metadata": {},
   "outputs": [],
   "source": [
    "from sklearn.model_selection import train_test_split\n",
    "train_X, val_X, train_y, val_y =  train_test_split(X,y)"
   ]
  },
  {
   "cell_type": "markdown",
   "metadata": {},
   "source": [
    "## Training and Evaluating Models\n",
    "Here we write a function to which takes model, training and test data as input and returns mean absolute error.\n",
    "We use this to validate various models in later steps.\n",
    "We train the model with training data and get predictions for unseen validation(test) data."
   ]
  },
  {
   "cell_type": "code",
   "execution_count": 4,
   "metadata": {},
   "outputs": [],
   "source": [
    "from sklearn.metrics import mean_absolute_error\n",
    "def mae(model, train_X, val_X, train_y, val_y):\n",
    "    model.fit(train_X, train_y)  # train\n",
    "    prediction = model.predict(val_X) # predict\n",
    "    return mean_absolute_error(prediction, val_y)"
   ]
  },
  {
   "cell_type": "markdown",
   "metadata": {},
   "source": [
    "## Models\n",
    "\n",
    "### Decision Tree\n",
    "\n",
    "The next example captures basic decision tree implementation. Since all machine learning models have some uncertainty we use *random_state* to make sure the results doesn't vary for each run."
   ]
  },
  {
   "cell_type": "code",
   "execution_count": 5,
   "metadata": {},
   "outputs": [
    {
     "name": "stdout",
     "output_type": "stream",
     "text": [
      "Decision Tree mean absolute error -  242542.38347320852\n"
     ]
    }
   ],
   "source": [
    "from sklearn.tree import DecisionTreeRegressor\n",
    "model = DecisionTreeRegressor(random_state=1) # random_state is used to reproduce the results\n",
    "print(\"Decision Tree mean absolute error - \", str(mae(model, train_X, val_X, train_y, val_y)))"
   ]
  },
  {
   "cell_type": "markdown",
   "metadata": {},
   "source": [
    "We can configure various parameters of the model. One of them is *max_leaf_nodes* which helps in deciding depth of the decision tree. The low value indicates simple models very as very high indicate complex model.\n",
    "This also influence whether our model overfit/underfit the data."
   ]
  },
  {
   "cell_type": "code",
   "execution_count": 6,
   "metadata": {},
   "outputs": [
    {
     "name": "stdout",
     "output_type": "stream",
     "text": [
      "Decision Tree with max_leaf_nodes=5 mean absolute error -  363973.35401571565\n",
      "Decision Tree with max_leaf_nodes=5 mean absolute error -  234498.25823111684\n"
     ]
    }
   ],
   "source": [
    "model = DecisionTreeRegressor(max_leaf_nodes=5, random_state=1)\n",
    "print(\"Decision Tree with max_leaf_nodes=5 mean absolute error - \", str(mae(model, train_X, val_X, train_y, val_y)))\n",
    "\n",
    "model = DecisionTreeRegressor(max_leaf_nodes=5000, random_state=1)\n",
    "print(\"Decision Tree with max_leaf_nodes=5 mean absolute error - \", str(mae(model, train_X, val_X, train_y, val_y)))"
   ]
  },
  {
   "cell_type": "markdown",
   "metadata": {},
   "source": [
    "### Random Forests\n",
    "\n",
    "The idea of random forests is to predict based on predictions of multiple decision trees. "
   ]
  },
  {
   "cell_type": "code",
   "execution_count": 7,
   "metadata": {},
   "outputs": [
    {
     "name": "stdout",
     "output_type": "stream",
     "text": [
      "Random Forrest mean absolute error -  193282.4957176673\n"
     ]
    }
   ],
   "source": [
    "from sklearn.ensemble import RandomForestRegressor\n",
    "model = RandomForestRegressor(random_state=1)\n",
    "print(\"Random Forrest mean absolute error - \", str(mae(model, train_X, val_X, train_y, val_y)))"
   ]
  }
 ],
 "metadata": {
  "kernelspec": {
   "display_name": "Python 3",
   "language": "python",
   "name": "python3"
  },
  "language_info": {
   "codemirror_mode": {
    "name": "ipython",
    "version": 3
   },
   "file_extension": ".py",
   "mimetype": "text/x-python",
   "name": "python",
   "nbconvert_exporter": "python",
   "pygments_lexer": "ipython3",
   "version": "3.5.2"
  }
 },
 "nbformat": 4,
 "nbformat_minor": 2
}
