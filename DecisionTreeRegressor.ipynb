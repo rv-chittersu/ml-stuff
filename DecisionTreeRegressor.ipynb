{
 "cells": [
  {
   "cell_type": "markdown",
   "metadata": {},
   "source": [
    "# Decision Tree Regressor\n",
    "\n",
    "## Introduction\n",
    "Here we got first model to predict the data. In this document we compile basic steps that need to be incorporated in ML model.\n",
    "\n",
    "## Setup"
   ]
  },
  {
   "cell_type": "code",
   "execution_count": null,
   "metadata": {},
   "outputs": [],
   "source": [
    "import pandas as pd\n",
    "from sklearn.tree import DecisionTreeRegressor\n",
    "import warnings\n",
    "warnings.filterwarnings(\"always\")\n",
    "\n",
    "melbourne_file_path = 'data/mel_housing/melb_data.csv'\n",
    "melbourne_data = pd.read_csv(melbourne_file_path) "
   ]
  },
  {
   "cell_type": "markdown",
   "metadata": {},
   "source": [
    "## CleanUp and Parameters Selection\n",
    "In this data there are few rows got non numerical values which could mess up the model we are using. We will remove those rows before feeding it to our model.\n",
    "We also need to choose what our feature and target parameters."
   ]
  },
  {
   "cell_type": "code",
   "execution_count": null,
   "metadata": {},
   "outputs": [],
   "source": [
    "# removing rows with na\n",
    "melbourne_data = melbourne_data.dropna(0)\n",
    "\n",
    "# setting features\n",
    "melbourne_features = ['Rooms', 'Bathroom', 'Landsize', 'Lattitude', 'Longtitude']\n",
    "X = melbourne_data[melbourne_features]\n",
    "X.head()\n",
    "\n",
    "# setting target\n",
    "y = melbourne_data.Price\n",
    "y.head()"
   ]
  },
  {
   "cell_type": "markdown",
   "metadata": {},
   "source": [
    "## Splitting data to training and test\n",
    "We validate the model using separate test data as model might have closely followed behavior specific to training data which might not be true in case real world data."
   ]
  },
  {
   "cell_type": "code",
   "execution_count": null,
   "metadata": {},
   "outputs": [],
   "source": [
    "from sklearn.model_selection import train_test_split\n",
    "\n",
    "train_X, val_X, train_y, val_y =  train_test_split(X,y)"
   ]
  },
  {
   "cell_type": "markdown",
   "metadata": {},
   "source": [
    "## Train the model\n",
    "We use DecisssionTreeRegressor by scikit-learn to generate a model to fit the training data."
   ]
  },
  {
   "cell_type": "code",
   "execution_count": null,
   "metadata": {},
   "outputs": [],
   "source": [
    "# random_state can be any number. It is specified to make sure the results be same in each run\n",
    "melbourne_model = DecisionTreeRegressor(random_state=1) \n",
    "melbourne_model.fit(train_X,train_y)"
   ]
  },
  {
   "cell_type": "markdown",
   "metadata": {},
   "source": [
    "## Prediction \n",
    "Here we do predictions for both training data and test data for later proving a point."
   ]
  },
  {
   "cell_type": "code",
   "execution_count": null,
   "metadata": {},
   "outputs": [],
   "source": [
    "pred_train = melbourne_model.predict(train_X)\n",
    "pred_val = melbourne_model.predict(val_X)"
   ]
  },
  {
   "cell_type": "markdown",
   "metadata": {},
   "source": [
    "## Evaluation\n",
    "We use mean absolute error on our prediction.\n",
    "We can see that our prediction seems to work better on training data than on validation data which model has never seen."
   ]
  },
  {
   "cell_type": "code",
   "execution_count": null,
   "metadata": {},
   "outputs": [],
   "source": [
    "from sklearn.metrics import mean_absolute_error\n",
    "\n",
    "print('training error ',str(mean_absolute_error(pred_train, train_y)))\n",
    "print('test error ',str(mean_absolute_error(pred_val, val_y)))\n"
   ]
  }
 ],
 "metadata": {
  "kernelspec": {
   "display_name": "Python 3",
   "language": "python",
   "name": "python3"
  },
  "language_info": {
   "codemirror_mode": {
    "name": "ipython",
    "version": 3
   },
   "file_extension": ".py",
   "mimetype": "text/x-python",
   "name": "python",
   "nbconvert_exporter": "python",
   "pygments_lexer": "ipython3",
   "version": "3.5.2"
  }
 },
 "nbformat": 4,
 "nbformat_minor": 2
}
